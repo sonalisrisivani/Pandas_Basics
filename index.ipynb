{
  "nbformat": 4,
  "nbformat_minor": 0,
  "metadata": {
    "colab": {
      "provenance": [],
      "authorship_tag": "ABX9TyPJPKlPQkIRwv/hpRSdARdF"
    },
    "kernelspec": {
      "name": "python3",
      "display_name": "Python 3"
    },
    "language_info": {
      "name": "python"
    }
  },
  "cells": [
    {
      "cell_type": "code",
      "source": [
        "import numpy as np"
      ],
      "metadata": {
        "id": "njfkBj7A-IQw"
      },
      "execution_count": 6,
      "outputs": []
    },
    {
      "cell_type": "code",
      "execution_count": 7,
      "metadata": {
        "colab": {
          "base_uri": "https://localhost:8080/"
        },
        "id": "b8AF3FDE-EIM",
        "outputId": "9d87b4ab-a61e-4805-8ac6-bb4c9ae3fd0e"
      },
      "outputs": [
        {
          "output_type": "stream",
          "name": "stdout",
          "text": [
            "82\n"
          ]
        }
      ],
      "source": [
        "arr = np.array(82)\n",
        "print(arr)"
      ]
    },
    {
      "cell_type": "markdown",
      "source": [],
      "metadata": {
        "id": "kJly5Esg-HW-"
      }
    },
    {
      "cell_type": "code",
      "source": [
        "l1 = np.array([1,2])\n",
        "print(l1)"
      ],
      "metadata": {
        "colab": {
          "base_uri": "https://localhost:8080/"
        },
        "id": "OU4npIOL-WrS",
        "outputId": "83d2783d-d7e7-4254-fd9a-b7868d40bae8"
      },
      "execution_count": 8,
      "outputs": [
        {
          "output_type": "stream",
          "name": "stdout",
          "text": [
            "[1 2]\n"
          ]
        }
      ]
    },
    {
      "cell_type": "code",
      "source": [
        "l2 = np.array([[1,2],[3,4]])\n",
        "print(l2)"
      ],
      "metadata": {
        "colab": {
          "base_uri": "https://localhost:8080/"
        },
        "id": "MGKolaTm-XxC",
        "outputId": "5e403f1a-818b-404d-ee38-d2779721891c"
      },
      "execution_count": 9,
      "outputs": [
        {
          "output_type": "stream",
          "name": "stdout",
          "text": [
            "[[1 2]\n",
            " [3 4]]\n"
          ]
        }
      ]
    },
    {
      "cell_type": "code",
      "source": [
        "l3 = np.array([[[1,2],[3,4]],[[1,2],[3,4]]])\n",
        "print(l3)"
      ],
      "metadata": {
        "colab": {
          "base_uri": "https://localhost:8080/"
        },
        "id": "MGtYXG-3-aXP",
        "outputId": "ebaf2d03-920f-431f-d0ee-51ca4d523e52"
      },
      "execution_count": 10,
      "outputs": [
        {
          "output_type": "stream",
          "name": "stdout",
          "text": [
            "[[[1 2]\n",
            "  [3 4]]\n",
            "\n",
            " [[1 2]\n",
            "  [3 4]]]\n"
          ]
        }
      ]
    },
    {
      "cell_type": "code",
      "source": [
        "for i in range(1,5):\n",
        " ln = np.array([1,2,3,4],ndmin=i)\n",
        " print(ln)\n",
        " print(ln.ndim)\n"
      ],
      "metadata": {
        "colab": {
          "base_uri": "https://localhost:8080/"
        },
        "id": "VeBH_076-b4Z",
        "outputId": "562d038b-c7e2-4b4c-df4f-a16a7d6007a8"
      },
      "execution_count": 11,
      "outputs": [
        {
          "output_type": "stream",
          "name": "stdout",
          "text": [
            "[1 2 3 4]\n",
            "1\n",
            "[[1 2 3 4]]\n",
            "2\n",
            "[[[1 2 3 4]]]\n",
            "3\n",
            "[[[[1 2 3 4]]]]\n",
            "4\n"
          ]
        }
      ]
    },
    {
      "cell_type": "code",
      "source": [
        "print(\"methods\")\n",
        "arr =np.arange(2,7,3)\n",
        "print(arr)"
      ],
      "metadata": {
        "colab": {
          "base_uri": "https://localhost:8080/"
        },
        "id": "Zn7zvA-y-e6r",
        "outputId": "829bac6c-8254-4950-d7de-fdc4822aa7d8"
      },
      "execution_count": 12,
      "outputs": [
        {
          "output_type": "stream",
          "name": "stdout",
          "text": [
            "methods\n",
            "[2 5]\n"
          ]
        }
      ]
    },
    {
      "cell_type": "code",
      "source": [
        "arr1= np.zeros((7,3))\n",
        "print(arr1)"
      ],
      "metadata": {
        "colab": {
          "base_uri": "https://localhost:8080/"
        },
        "id": "voy5E93g-hdY",
        "outputId": "05badd22-b46c-4e5c-c9c1-e98e320d93d7"
      },
      "execution_count": 13,
      "outputs": [
        {
          "output_type": "stream",
          "name": "stdout",
          "text": [
            "[[0. 0. 0.]\n",
            " [0. 0. 0.]\n",
            " [0. 0. 0.]\n",
            " [0. 0. 0.]\n",
            " [0. 0. 0.]\n",
            " [0. 0. 0.]\n",
            " [0. 0. 0.]]\n"
          ]
        }
      ]
    },
    {
      "cell_type": "code",
      "source": [
        "arr2= arr1.T\n",
        "print(arr2)"
      ],
      "metadata": {
        "colab": {
          "base_uri": "https://localhost:8080/"
        },
        "id": "gzHb1EtA-jca",
        "outputId": "3ff122ce-f4c1-4ead-b74b-16d940da34fc"
      },
      "execution_count": 14,
      "outputs": [
        {
          "output_type": "stream",
          "name": "stdout",
          "text": [
            "[[0. 0. 0. 0. 0. 0. 0.]\n",
            " [0. 0. 0. 0. 0. 0. 0.]\n",
            " [0. 0. 0. 0. 0. 0. 0.]]\n"
          ]
        }
      ]
    },
    {
      "cell_type": "code",
      "source": [
        "arr3= np.ones((2,5))\n",
        "print(arr3)"
      ],
      "metadata": {
        "colab": {
          "base_uri": "https://localhost:8080/"
        },
        "id": "hMC8vb44-lmq",
        "outputId": "d9cd8b27-2b6c-4036-9207-c22064f61705"
      },
      "execution_count": 15,
      "outputs": [
        {
          "output_type": "stream",
          "name": "stdout",
          "text": [
            "[[1. 1. 1. 1. 1.]\n",
            " [1. 1. 1. 1. 1.]]\n"
          ]
        }
      ]
    },
    {
      "cell_type": "code",
      "source": [
        "arr5 = np.full((2,6),7)\n",
        "print(arr5)"
      ],
      "metadata": {
        "colab": {
          "base_uri": "https://localhost:8080/"
        },
        "id": "FXPEmmcx-nJr",
        "outputId": "ee852221-57a9-486d-ef22-86b8e150f159"
      },
      "execution_count": 16,
      "outputs": [
        {
          "output_type": "stream",
          "name": "stdout",
          "text": [
            "[[7 7 7 7 7 7]\n",
            " [7 7 7 7 7 7]]\n"
          ]
        }
      ]
    },
    {
      "cell_type": "code",
      "source": [
        "arr4 = np.full((3,6),\"anits\",dtype=str)\n",
        "print(arr4)"
      ],
      "metadata": {
        "colab": {
          "base_uri": "https://localhost:8080/"
        },
        "id": "_OyosljC-otZ",
        "outputId": "cabfda46-1223-4b7a-c76e-9c59ef5bc865"
      },
      "execution_count": 17,
      "outputs": [
        {
          "output_type": "stream",
          "name": "stdout",
          "text": [
            "[['a' 'a' 'a' 'a' 'a' 'a']\n",
            " ['a' 'a' 'a' 'a' 'a' 'a']\n",
            " ['a' 'a' 'a' 'a' 'a' 'a']]\n"
          ]
        }
      ]
    },
    {
      "cell_type": "code",
      "source": [
        "arr6 = np.full((3,6),\"anits\",dtype='U2')\n",
        "print(arr6)"
      ],
      "metadata": {
        "colab": {
          "base_uri": "https://localhost:8080/"
        },
        "id": "JysNWVh_-qpV",
        "outputId": "d47bef1d-e80a-43b4-a110-6adde4720749"
      },
      "execution_count": 18,
      "outputs": [
        {
          "output_type": "stream",
          "name": "stdout",
          "text": [
            "[['an' 'an' 'an' 'an' 'an' 'an']\n",
            " ['an' 'an' 'an' 'an' 'an' 'an']\n",
            " ['an' 'an' 'an' 'an' 'an' 'an']]\n"
          ]
        }
      ]
    },
    {
      "cell_type": "code",
      "source": [
        "arr7 = np.full((3,6),\"anits\",dtype=object)\n",
        "print(arr7)"
      ],
      "metadata": {
        "colab": {
          "base_uri": "https://localhost:8080/"
        },
        "id": "Fq3kbaba-szZ",
        "outputId": "91c7afd1-7485-4ca3-e171-3cf3589aa282"
      },
      "execution_count": 19,
      "outputs": [
        {
          "output_type": "stream",
          "name": "stdout",
          "text": [
            "[['anits' 'anits' 'anits' 'anits' 'anits' 'anits']\n",
            " ['anits' 'anits' 'anits' 'anits' 'anits' 'anits']\n",
            " ['anits' 'anits' 'anits' 'anits' 'anits' 'anits']]\n"
          ]
        }
      ]
    },
    {
      "cell_type": "code",
      "source": [
        "arr8 = np.arange(9)\n",
        "print(arr8)"
      ],
      "metadata": {
        "colab": {
          "base_uri": "https://localhost:8080/"
        },
        "id": "8AESabIo-ubW",
        "outputId": "97115e6f-945a-4d97-b306-fcb382db52c3"
      },
      "execution_count": 20,
      "outputs": [
        {
          "output_type": "stream",
          "name": "stdout",
          "text": [
            "[0 1 2 3 4 5 6 7 8]\n"
          ]
        }
      ]
    },
    {
      "cell_type": "code",
      "source": [
        "arr9 = np.eye(5,8,3)\n",
        "print(arr9)"
      ],
      "metadata": {
        "colab": {
          "base_uri": "https://localhost:8080/"
        },
        "id": "e3mWeVTJ-xkZ",
        "outputId": "0e159941-47d4-4c7e-a8d1-25f450ae4485"
      },
      "execution_count": 21,
      "outputs": [
        {
          "output_type": "stream",
          "name": "stdout",
          "text": [
            "[[0. 0. 0. 1. 0. 0. 0. 0.]\n",
            " [0. 0. 0. 0. 1. 0. 0. 0.]\n",
            " [0. 0. 0. 0. 0. 1. 0. 0.]\n",
            " [0. 0. 0. 0. 0. 0. 1. 0.]\n",
            " [0. 0. 0. 0. 0. 0. 0. 1.]]\n"
          ]
        }
      ]
    },
    {
      "cell_type": "code",
      "source": [
        "arr10 = np.identity(3)\n",
        "print(arr10)"
      ],
      "metadata": {
        "colab": {
          "base_uri": "https://localhost:8080/"
        },
        "id": "-K-LeKxg-zE2",
        "outputId": "e27c351b-f7ce-4633-9899-8e2fc77e51ce"
      },
      "execution_count": 22,
      "outputs": [
        {
          "output_type": "stream",
          "name": "stdout",
          "text": [
            "[[1. 0. 0.]\n",
            " [0. 1. 0.]\n",
            " [0. 0. 1.]]\n"
          ]
        }
      ]
    },
    {
      "cell_type": "code",
      "source": [
        "arr11 = np.linspace(0,20,5)\n",
        "print(arr11)"
      ],
      "metadata": {
        "colab": {
          "base_uri": "https://localhost:8080/"
        },
        "id": "L29gRXpw-0yq",
        "outputId": "2a0ab1dd-f60b-4264-e251-d0fa0eaefc70"
      },
      "execution_count": 23,
      "outputs": [
        {
          "output_type": "stream",
          "name": "stdout",
          "text": [
            "[ 0.  5. 10. 15. 20.]\n"
          ]
        }
      ]
    },
    {
      "cell_type": "code",
      "source": [
        "import pandas as pd"
      ],
      "metadata": {
        "id": "Ig3YDD-w_GRl"
      },
      "execution_count": 24,
      "outputs": []
    },
    {
      "cell_type": "code",
      "source": [
        "data = pd.DataFrame({\n",
        " 'Height': [165,172,158,185,170],\n",
        " 'Weight': [65.2,68.5,61.9,78.2,70.7]\n",
        "})\n",
        "print(\"ratio\")\n",
        "print(data)"
      ],
      "metadata": {
        "colab": {
          "base_uri": "https://localhost:8080/"
        },
        "id": "uodpAHno-2K_",
        "outputId": "27a7cb59-a177-4d0b-b11a-3d1f440621b2"
      },
      "execution_count": 25,
      "outputs": [
        {
          "output_type": "stream",
          "name": "stdout",
          "text": [
            "ratio\n",
            "   Height  Weight\n",
            "0     165    65.2\n",
            "1     172    68.5\n",
            "2     158    61.9\n",
            "3     185    78.2\n",
            "4     170    70.7\n"
          ]
        }
      ]
    },
    {
      "cell_type": "code",
      "source": [
        "import pandas as pd\n",
        "data = pd.DataFrame({\n",
        " 'EduLevel': ['High School', 'Bachelor','Master','PhD'],\n",
        " 'Ranking': [5,1,2,4]\n",
        "})\n",
        "print(\"ordinal\")\n",
        "print(data)"
      ],
      "metadata": {
        "colab": {
          "base_uri": "https://localhost:8080/"
        },
        "id": "v5xSlDJT_ACz",
        "outputId": "fc933d22-fe00-4c1e-ea0f-a15015cd5316"
      },
      "execution_count": 26,
      "outputs": [
        {
          "output_type": "stream",
          "name": "stdout",
          "text": [
            "ordinal\n",
            "      EduLevel  Ranking\n",
            "0  High School        5\n",
            "1     Bachelor        1\n",
            "2       Master        2\n",
            "3          PhD        4\n"
          ]
        }
      ]
    },
    {
      "cell_type": "code",
      "source": [
        "import pandas as pd\n",
        "data = pd.DataFrame({\n",
        " 'gender': ['M','F','F','M','M'],\n",
        " 'age': [22,31,21,45,12]\n",
        "})\n",
        "print(\"nominal\")\n",
        "print(data)"
      ],
      "metadata": {
        "colab": {
          "base_uri": "https://localhost:8080/"
        },
        "id": "2WsezrqX_LC-",
        "outputId": "8e8aabd5-608b-4185-9d57-b7e9082e5467"
      },
      "execution_count": 27,
      "outputs": [
        {
          "output_type": "stream",
          "name": "stdout",
          "text": [
            "nominal\n",
            "  gender  age\n",
            "0      M   22\n",
            "1      F   31\n",
            "2      F   21\n",
            "3      M   45\n",
            "4      M   12\n"
          ]
        }
      ]
    },
    {
      "cell_type": "code",
      "source": [
        "import pandas as pd\n",
        "data = pd.DataFrame({\n",
        " 'Temperature': [23.5,26.5,30.1,28.2,25.4]\n",
        "})\n",
        "print(\"interval\")\n",
        "print(data)"
      ],
      "metadata": {
        "colab": {
          "base_uri": "https://localhost:8080/"
        },
        "id": "6yTbzhBH_Qjb",
        "outputId": "627edbf3-134b-4668-d090-419006cdb3cc"
      },
      "execution_count": 28,
      "outputs": [
        {
          "output_type": "stream",
          "name": "stdout",
          "text": [
            "interval\n",
            "   Temperature\n",
            "0         23.5\n",
            "1         26.5\n",
            "2         30.1\n",
            "3         28.2\n",
            "4         25.4\n"
          ]
        }
      ]
    },
    {
      "cell_type": "code",
      "source": [
        "print(\"EXPERIMENT 2\")"
      ],
      "metadata": {
        "colab": {
          "base_uri": "https://localhost:8080/"
        },
        "id": "JwuvBeDz_Xe8",
        "outputId": "3cc5b0cf-d6fc-4c47-f06a-63eeb0e39d4f"
      },
      "execution_count": 29,
      "outputs": [
        {
          "output_type": "stream",
          "name": "stdout",
          "text": [
            "EXPERIMENT 2\n"
          ]
        }
      ]
    },
    {
      "cell_type": "code",
      "source": [
        "import pandas as pd\n",
        "import random\n",
        "from datetime import datetime, timedelta\n",
        "\n",
        "# Generate random sales data\n",
        "random.seed(0)  # For reproducibility\n",
        "\n",
        "dates = [datetime(2023, 1, 1) + timedelta(days=i) for i in range(10)]\n",
        "products = ['Apple', 'Orange', 'Banana']\n",
        "units_sold = [random.randint(50, 300) for _ in range(10)]\n",
        "prices = {'Apple': 1.5, 'Orange': 2.0, 'Banana': 1.0}\n",
        "price_per_unit = [prices[random.choice(products)] for _ in range(10)]\n",
        "total_price = [units * price for units, price in zip(units_sold, price_per_unit)]\n",
        "\n",
        "# Create a DataFrame\n",
        "df = pd.DataFrame({\n",
        "    'Date': dates,\n",
        "    'Product': [random.choice(products) for _ in range(10)],\n",
        "    'Units Sold': units_sold,\n",
        "    'Price per Unit': price_per_unit,\n",
        "    'Total Price': total_price\n",
        "})\n",
        "\n",
        "# Save the DataFrame to a CSV file\n",
        "df.to_csv('sales_data_generated.csv', index=False)\n",
        "\n",
        "print(\"Dataset saved as 'sales_data_generated.csv'\")\n"
      ],
      "metadata": {
        "colab": {
          "base_uri": "https://localhost:8080/"
        },
        "id": "OGPdgTUxBJjX",
        "outputId": "e28793ee-7f61-419a-ba11-1a90cd8a8d15"
      },
      "execution_count": 30,
      "outputs": [
        {
          "output_type": "stream",
          "name": "stdout",
          "text": [
            "Dataset saved as 'sales_data_generated.csv'\n"
          ]
        }
      ]
    },
    {
      "cell_type": "code",
      "source": [
        "import os\n",
        "\n",
        "csv_filename = 'sales_data_generated.csv'  # Adjust this to your actual filename\n",
        "\n",
        "if os.path.exists(csv_filename):\n",
        "    print(f\"The CSV file '{csv_filename}' exists.\")\n",
        "else:\n",
        "    print(f\"The CSV file '{csv_filename}' does not exist.\")\n"
      ],
      "metadata": {
        "colab": {
          "base_uri": "https://localhost:8080/"
        },
        "id": "wUjX7qpTBgRc",
        "outputId": "8a1b3907-91f2-4c97-cb5c-c75e21691ba3"
      },
      "execution_count": 31,
      "outputs": [
        {
          "output_type": "stream",
          "name": "stdout",
          "text": [
            "The CSV file 'sales_data_generated.csv' exists.\n"
          ]
        }
      ]
    },
    {
      "cell_type": "code",
      "source": [
        "#loafing dataset"
      ],
      "metadata": {
        "id": "-Ss_fpByCFHB"
      },
      "execution_count": 32,
      "outputs": []
    },
    {
      "cell_type": "code",
      "source": [
        "\n",
        "# Load the CSV file into a DataFrame\n",
        "df = pd.read_csv('sales_data_generated.csv')\n",
        "\n",
        "# Display the first few rows of the DataFrame\n",
        "print(df.head())"
      ],
      "metadata": {
        "colab": {
          "base_uri": "https://localhost:8080/"
        },
        "id": "XrieueT_CTmC",
        "outputId": "efbc4b9e-db0e-486c-92d7-30b8b2abb31c"
      },
      "execution_count": 33,
      "outputs": [
        {
          "output_type": "stream",
          "name": "stdout",
          "text": [
            "         Date Product  Units Sold  Price per Unit  Total Price\n",
            "0  2023-01-01   Apple         266             2.0        532.0\n",
            "1  2023-01-02  Banana         148             2.0        296.0\n",
            "2  2023-01-03  Orange         244             2.0        488.0\n",
            "3  2023-01-04  Banana         277             2.0        554.0\n",
            "4  2023-01-05  Banana         157             1.0        157.0\n"
          ]
        }
      ]
    },
    {
      "cell_type": "code",
      "source": [
        "#basic operations"
      ],
      "metadata": {
        "id": "uZx8giDOCVol"
      },
      "execution_count": 34,
      "outputs": []
    },
    {
      "cell_type": "code",
      "source": [
        "# Display first 5 rows\n",
        "print(df.head())"
      ],
      "metadata": {
        "colab": {
          "base_uri": "https://localhost:8080/"
        },
        "id": "RCU81lnDCacS",
        "outputId": "736a624b-6d16-414a-fb6f-81d8ac65947c"
      },
      "execution_count": 35,
      "outputs": [
        {
          "output_type": "stream",
          "name": "stdout",
          "text": [
            "         Date Product  Units Sold  Price per Unit  Total Price\n",
            "0  2023-01-01   Apple         266             2.0        532.0\n",
            "1  2023-01-02  Banana         148             2.0        296.0\n",
            "2  2023-01-03  Orange         244             2.0        488.0\n",
            "3  2023-01-04  Banana         277             2.0        554.0\n",
            "4  2023-01-05  Banana         157             1.0        157.0\n"
          ]
        }
      ]
    },
    {
      "cell_type": "code",
      "source": [
        "# Display last 5 rows\n",
        "print(df.tail())"
      ],
      "metadata": {
        "colab": {
          "base_uri": "https://localhost:8080/"
        },
        "id": "i94STfFKCcFw",
        "outputId": "78d63123-a956-413e-fa53-dc25a0ffc9c2"
      },
      "execution_count": 36,
      "outputs": [
        {
          "output_type": "stream",
          "name": "stdout",
          "text": [
            "         Date Product  Units Sold  Price per Unit  Total Price\n",
            "5  2023-01-06  Banana          60             1.5         90.0\n",
            "6  2023-01-07   Apple         116             1.0        116.0\n",
            "7  2023-01-08  Orange         297             1.5        445.5\n",
            "8  2023-01-09   Apple         180             2.0        360.0\n",
            "9  2023-01-10  Banana         174             1.5        261.0\n"
          ]
        }
      ]
    },
    {
      "cell_type": "code",
      "source": [
        "# Check column names\n",
        "print(df.columns)"
      ],
      "metadata": {
        "colab": {
          "base_uri": "https://localhost:8080/"
        },
        "id": "klBgh5i9ChJG",
        "outputId": "76ce23b8-3b99-44c1-b263-05ab2b78ce67"
      },
      "execution_count": 37,
      "outputs": [
        {
          "output_type": "stream",
          "name": "stdout",
          "text": [
            "Index(['Date', 'Product', 'Units Sold', 'Price per Unit', 'Total Price'], dtype='object')\n"
          ]
        }
      ]
    },
    {
      "cell_type": "code",
      "source": [
        "# Check data types\n",
        "print(df.dtypes)"
      ],
      "metadata": {
        "colab": {
          "base_uri": "https://localhost:8080/"
        },
        "id": "1DbAB4EJCj1A",
        "outputId": "b22e5027-8ad7-4c8e-898a-068794c25dce"
      },
      "execution_count": 38,
      "outputs": [
        {
          "output_type": "stream",
          "name": "stdout",
          "text": [
            "Date               object\n",
            "Product            object\n",
            "Units Sold          int64\n",
            "Price per Unit    float64\n",
            "Total Price       float64\n",
            "dtype: object\n"
          ]
        }
      ]
    },
    {
      "cell_type": "code",
      "source": [
        "# Summary statistics\n",
        "print(df.describe())"
      ],
      "metadata": {
        "colab": {
          "base_uri": "https://localhost:8080/"
        },
        "id": "W1psyrysCoxm",
        "outputId": "e1b16434-797b-457e-9da3-b2f1c3db0a54"
      },
      "execution_count": 39,
      "outputs": [
        {
          "output_type": "stream",
          "name": "stdout",
          "text": [
            "       Units Sold  Price per Unit  Total Price\n",
            "count     10.0000       10.000000    10.000000\n",
            "mean     191.9000        1.650000   329.950000\n",
            "std       76.9263        0.411636   173.020944\n",
            "min       60.0000        1.000000    90.000000\n",
            "25%      150.2500        1.500000   183.000000\n",
            "50%      177.0000        1.750000   328.000000\n",
            "75%      260.5000        2.000000   477.375000\n",
            "max      297.0000        2.000000   554.000000\n"
          ]
        }
      ]
    },
    {
      "cell_type": "code",
      "source": [
        "#"
      ],
      "metadata": {
        "id": "hUZHOvE-CqkV"
      },
      "execution_count": 40,
      "outputs": []
    },
    {
      "cell_type": "code",
      "source": [
        "# accessing specific col or row"
      ],
      "metadata": {
        "id": "Vk9G9xkoC0gf"
      },
      "execution_count": 41,
      "outputs": []
    },
    {
      "cell_type": "code",
      "source": [
        "# Selecting a single column\n",
        "print(df['Date'])"
      ],
      "metadata": {
        "colab": {
          "base_uri": "https://localhost:8080/"
        },
        "id": "sIQIXl-nC3Q8",
        "outputId": "e6ac596c-d11a-4bb1-ad4c-3d4e613bfe5c"
      },
      "execution_count": 42,
      "outputs": [
        {
          "output_type": "stream",
          "name": "stdout",
          "text": [
            "0    2023-01-01\n",
            "1    2023-01-02\n",
            "2    2023-01-03\n",
            "3    2023-01-04\n",
            "4    2023-01-05\n",
            "5    2023-01-06\n",
            "6    2023-01-07\n",
            "7    2023-01-08\n",
            "8    2023-01-09\n",
            "9    2023-01-10\n",
            "Name: Date, dtype: object\n"
          ]
        }
      ]
    },
    {
      "cell_type": "code",
      "source": [
        "# Selecting multiple columns\n",
        "print(df[['Date', 'Product', 'Units Sold']])"
      ],
      "metadata": {
        "colab": {
          "base_uri": "https://localhost:8080/"
        },
        "id": "HAzi2OuVC5wN",
        "outputId": "0720661b-1375-4136-d6b8-8bc3bcc0bb77"
      },
      "execution_count": 43,
      "outputs": [
        {
          "output_type": "stream",
          "name": "stdout",
          "text": [
            "         Date Product  Units Sold\n",
            "0  2023-01-01   Apple         266\n",
            "1  2023-01-02  Banana         148\n",
            "2  2023-01-03  Orange         244\n",
            "3  2023-01-04  Banana         277\n",
            "4  2023-01-05  Banana         157\n",
            "5  2023-01-06  Banana          60\n",
            "6  2023-01-07   Apple         116\n",
            "7  2023-01-08  Orange         297\n",
            "8  2023-01-09   Apple         180\n",
            "9  2023-01-10  Banana         174\n"
          ]
        }
      ]
    },
    {
      "cell_type": "code",
      "source": [
        "# Selecting rows by index\n",
        "print(df.iloc[0])  # First row"
      ],
      "metadata": {
        "colab": {
          "base_uri": "https://localhost:8080/"
        },
        "id": "Wt1uYQ0IC7uu",
        "outputId": "37ce1b34-f303-4868-c5bc-01457bc8f5d0"
      },
      "execution_count": 44,
      "outputs": [
        {
          "output_type": "stream",
          "name": "stdout",
          "text": [
            "Date              2023-01-01\n",
            "Product                Apple\n",
            "Units Sold               266\n",
            "Price per Unit           2.0\n",
            "Total Price            532.0\n",
            "Name: 0, dtype: object\n"
          ]
        }
      ]
    },
    {
      "cell_type": "code",
      "source": [
        "# Selecting rows by condition\n",
        "print(df[df['Units Sold'] > 200])"
      ],
      "metadata": {
        "colab": {
          "base_uri": "https://localhost:8080/"
        },
        "id": "1q6ubdsXC9aS",
        "outputId": "dbf1745e-8c0a-431f-a746-f7049922d400"
      },
      "execution_count": 45,
      "outputs": [
        {
          "output_type": "stream",
          "name": "stdout",
          "text": [
            "         Date Product  Units Sold  Price per Unit  Total Price\n",
            "0  2023-01-01   Apple         266             2.0        532.0\n",
            "2  2023-01-03  Orange         244             2.0        488.0\n",
            "3  2023-01-04  Banana         277             2.0        554.0\n",
            "7  2023-01-08  Orange         297             1.5        445.5\n"
          ]
        }
      ]
    },
    {
      "cell_type": "code",
      "source": [
        "#"
      ],
      "metadata": {
        "id": "yoqdqn-_C-tO"
      },
      "execution_count": 46,
      "outputs": []
    },
    {
      "cell_type": "code",
      "source": [
        "# Data Manipulation"
      ],
      "metadata": {
        "id": "qDz39pQSEQ-i"
      },
      "execution_count": 47,
      "outputs": []
    },
    {
      "cell_type": "code",
      "source": [
        "# Adding a new column 'Revenue'\n",
        "df['Revenue'] = df['Units Sold'] * df['Price per Unit']"
      ],
      "metadata": {
        "id": "7WZFBjbcETCP"
      },
      "execution_count": 48,
      "outputs": []
    },
    {
      "cell_type": "code",
      "source": [
        "print(df.head())"
      ],
      "metadata": {
        "colab": {
          "base_uri": "https://localhost:8080/"
        },
        "id": "nVYqdWp8EVOp",
        "outputId": "f5d593a2-96d8-4397-d3f9-a071dd841f7c"
      },
      "execution_count": 49,
      "outputs": [
        {
          "output_type": "stream",
          "name": "stdout",
          "text": [
            "         Date Product  Units Sold  Price per Unit  Total Price  Revenue\n",
            "0  2023-01-01   Apple         266             2.0        532.0    532.0\n",
            "1  2023-01-02  Banana         148             2.0        296.0    296.0\n",
            "2  2023-01-03  Orange         244             2.0        488.0    488.0\n",
            "3  2023-01-04  Banana         277             2.0        554.0    554.0\n",
            "4  2023-01-05  Banana         157             1.0        157.0    157.0\n"
          ]
        }
      ]
    },
    {
      "cell_type": "code",
      "source": [
        "# Modifying existing column 'Total Price'\n",
        "df['Total Price'] = df['Units Sold'] * df['Price per Unit']\n",
        "print(df.head())"
      ],
      "metadata": {
        "colab": {
          "base_uri": "https://localhost:8080/"
        },
        "id": "GjMa0YgPEb_l",
        "outputId": "68e468fd-0469-4987-8c07-c525fb8ac8bd"
      },
      "execution_count": 50,
      "outputs": [
        {
          "output_type": "stream",
          "name": "stdout",
          "text": [
            "         Date Product  Units Sold  Price per Unit  Total Price  Revenue\n",
            "0  2023-01-01   Apple         266             2.0        532.0    532.0\n",
            "1  2023-01-02  Banana         148             2.0        296.0    296.0\n",
            "2  2023-01-03  Orange         244             2.0        488.0    488.0\n",
            "3  2023-01-04  Banana         277             2.0        554.0    554.0\n",
            "4  2023-01-05  Banana         157             1.0        157.0    157.0\n"
          ]
        }
      ]
    },
    {
      "cell_type": "code",
      "source": [
        "# Grouping by 'Product' and calculating total sales\n",
        "sales_per_product = df.groupby('Product')['Total Price'].sum()\n",
        "print(sales_per_product)"
      ],
      "metadata": {
        "colab": {
          "base_uri": "https://localhost:8080/"
        },
        "id": "eoBKcY0nEjPS",
        "outputId": "88270110-aac4-4a76-fbf2-17291e6e1159"
      },
      "execution_count": 51,
      "outputs": [
        {
          "output_type": "stream",
          "name": "stdout",
          "text": [
            "Product\n",
            "Apple     1008.0\n",
            "Banana    1358.0\n",
            "Orange     933.5\n",
            "Name: Total Price, dtype: float64\n"
          ]
        }
      ]
    },
    {
      "cell_type": "code",
      "source": [
        "#"
      ],
      "metadata": {
        "id": "yf4eN0AbEp_i"
      },
      "execution_count": 52,
      "outputs": []
    },
    {
      "cell_type": "code",
      "source": [
        "# Data Analysis"
      ],
      "metadata": {
        "id": "RQNoKg5lEsp5"
      },
      "execution_count": 53,
      "outputs": []
    },
    {
      "cell_type": "code",
      "source": [
        "# Sorting by 'Date' in ascending order\n",
        "sorted_df = df.sort_values(by='Date')\n",
        "print(sorted_df.head())\n"
      ],
      "metadata": {
        "colab": {
          "base_uri": "https://localhost:8080/"
        },
        "id": "pm3_qz1IEuRM",
        "outputId": "c3c529f9-12e9-4ed3-a2fe-70afca8c22a4"
      },
      "execution_count": 54,
      "outputs": [
        {
          "output_type": "stream",
          "name": "stdout",
          "text": [
            "         Date Product  Units Sold  Price per Unit  Total Price  Revenue\n",
            "0  2023-01-01   Apple         266             2.0        532.0    532.0\n",
            "1  2023-01-02  Banana         148             2.0        296.0    296.0\n",
            "2  2023-01-03  Orange         244             2.0        488.0    488.0\n",
            "3  2023-01-04  Banana         277             2.0        554.0    554.0\n",
            "4  2023-01-05  Banana         157             1.0        157.0    157.0\n"
          ]
        }
      ]
    },
    {
      "cell_type": "code",
      "source": [
        "#"
      ],
      "metadata": {
        "id": "eGrGKWZ1Ev8z"
      },
      "execution_count": 55,
      "outputs": []
    },
    {
      "cell_type": "code",
      "source": [
        "# Exporting Data"
      ],
      "metadata": {
        "id": "9CDn0MKREygY"
      },
      "execution_count": 56,
      "outputs": []
    },
    {
      "cell_type": "code",
      "source": [
        "# Save the modified DataFrame back to CSV\n",
        "df.to_csv('sales_data_modified.csv', index=False)\n",
        "print(\"Modified data saved to 'sales_data_modified.csv'\")\n"
      ],
      "metadata": {
        "colab": {
          "base_uri": "https://localhost:8080/"
        },
        "id": "XqKOKBY3Ez0N",
        "outputId": "252b48d6-1377-4961-de79-519c182b5775"
      },
      "execution_count": 57,
      "outputs": [
        {
          "output_type": "stream",
          "name": "stdout",
          "text": [
            "Modified data saved to 'sales_data_modified.csv'\n"
          ]
        }
      ]
    },
    {
      "cell_type": "code",
      "source": [
        "print(df.head())"
      ],
      "metadata": {
        "colab": {
          "base_uri": "https://localhost:8080/"
        },
        "id": "nKTNUns0E2ek",
        "outputId": "01c5d01e-1d7f-418b-87d5-4fe3f5d302fc"
      },
      "execution_count": 58,
      "outputs": [
        {
          "output_type": "stream",
          "name": "stdout",
          "text": [
            "         Date Product  Units Sold  Price per Unit  Total Price  Revenue\n",
            "0  2023-01-01   Apple         266             2.0        532.0    532.0\n",
            "1  2023-01-02  Banana         148             2.0        296.0    296.0\n",
            "2  2023-01-03  Orange         244             2.0        488.0    488.0\n",
            "3  2023-01-04  Banana         277             2.0        554.0    554.0\n",
            "4  2023-01-05  Banana         157             1.0        157.0    157.0\n"
          ]
        }
      ]
    },
    {
      "cell_type": "code",
      "source": [
        "# prompt: implement pandas\n",
        "\n",
        "# pandas is already imported in the preceding code.\n",
        "# If you want to perform a specific pandas operation, please provide a more detailed task.\n"
      ],
      "metadata": {
        "id": "8MqD4YLUE7YK"
      },
      "execution_count": 59,
      "outputs": []
    },
    {
      "cell_type": "code",
      "source": [
        "# prompt: create histogram with pandas\n",
        "\n",
        "import matplotlib.pyplot as plt\n",
        "\n",
        "# Assuming 'df' is your DataFrame from the preceding code\n",
        "df['Units Sold'].hist()\n",
        "plt.xlabel('Units Sold')\n",
        "plt.ylabel('Frequency')\n",
        "plt.title('Distribution of Units Sold')\n",
        "plt.show()\n"
      ],
      "metadata": {
        "id": "LqnqOJi0aL52",
        "outputId": "a93e16a9-5bff-4166-ada9-2646aa3e42ec",
        "colab": {
          "base_uri": "https://localhost:8080/",
          "height": 472
        }
      },
      "execution_count": 60,
      "outputs": [
        {
          "output_type": "display_data",
          "data": {
            "text/plain": [
              "<Figure size 640x480 with 1 Axes>"
            ],
            "image/png": "[encoded data removed]"
          },
          "metadata": {}
        }
      ]
    },
    {
      "cell_type": "code",
      "source": [],
      "metadata": {
        "id": "9r4_00iYajDf"
      },
      "execution_count": null,
      "outputs": []
    }
  ]
}